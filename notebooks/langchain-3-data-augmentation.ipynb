{
 "cells": [
  {
   "attachments": {},
   "cell_type": "markdown",
   "id": "effbf36a-4fb2-41c7-a7fa-0101afe6e211",
   "metadata": {},
   "source": [
    "# LangChain Playground #3\n",
    "## Data Augmentation\n",
    "\n",
    "Our goal is to build an Agent capable of solving queries based on provided contextual knowledge."
   ]
  },
  {
   "cell_type": "code",
   "execution_count": 1,
   "id": "75f38581",
   "metadata": {},
   "outputs": [
    {
     "name": "stdout",
     "output_type": "stream",
     "text": [
      "\u001b[33mWARNING: Running pip as the 'root' user can result in broken permissions and conflicting behaviour with the system package manager. It is recommended to use a virtual environment instead: https://pip.pypa.io/warnings/venv\u001b[0m\u001b[33m\n",
      "\u001b[0mNote: you may need to restart the kernel to use updated packages.\n",
      "\u001b[33mWARNING: Running pip as the 'root' user can result in broken permissions and conflicting behaviour with the system package manager. It is recommended to use a virtual environment instead: https://pip.pypa.io/warnings/venv\u001b[0m\u001b[33m\n",
      "\u001b[0mNote: you may need to restart the kernel to use updated packages.\n",
      "\u001b[33mWARNING: Running pip as the 'root' user can result in broken permissions and conflicting behaviour with the system package manager. It is recommended to use a virtual environment instead: https://pip.pypa.io/warnings/venv\u001b[0m\u001b[33m\n",
      "\u001b[0mNote: you may need to restart the kernel to use updated packages.\n",
      "\u001b[33mWARNING: Running pip as the 'root' user can result in broken permissions and conflicting behaviour with the system package manager. It is recommended to use a virtual environment instead: https://pip.pypa.io/warnings/venv\u001b[0m\u001b[33m\n",
      "\u001b[0mNote: you may need to restart the kernel to use updated packages.\n",
      "\u001b[33mWARNING: Running pip as the 'root' user can result in broken permissions and conflicting behaviour with the system package manager. It is recommended to use a virtual environment instead: https://pip.pypa.io/warnings/venv\u001b[0m\u001b[33m\n",
      "\u001b[0mNote: you may need to restart the kernel to use updated packages.\n"
     ]
    }
   ],
   "source": [
    "%pip install -qU langchain\n",
    "%pip install -qU requests \n",
    "%pip install -qU openai \n",
    "%pip install -qU transformers \n",
    "%pip install -qU faiss-cpu"
   ]
  },
  {
   "cell_type": "code",
   "execution_count": 2,
   "id": "0f7f433c-6412-42c1-a567-799220e5fc78",
   "metadata": {},
   "outputs": [],
   "source": [
    "from langchain.llms import OpenAI\n",
    "from langchain.chains.qa_with_sources import load_qa_with_sources_chain\n",
    "from langchain.docstore.document import Document\n",
    "import requests"
   ]
  },
  {
   "cell_type": "markdown",
   "id": "9c023a5e",
   "metadata": {},
   "source": [
    "### Search agent set up"
   ]
  },
  {
   "cell_type": "code",
   "execution_count": 3,
   "id": "1a6a2577",
   "metadata": {},
   "outputs": [],
   "source": [
    "import os\n",
    "# openai API key\n",
    "os.environ[\"OPENAI_API_KEY\"] = \"KEY_GOES_HERE\""
   ]
  },
  {
   "cell_type": "code",
   "execution_count": 4,
   "id": "af85f964",
   "metadata": {},
   "outputs": [],
   "source": [
    "def get_wiki_data(title, first_paragraph_only):\n",
    "    url = f\"https://en.wikipedia.org/w/api.php?format=json&action=query&prop=extracts&explaintext=1&titles={title}\"\n",
    "    if first_paragraph_only:\n",
    "        url += \"&exintro=1\"\n",
    "    data = requests.get(url).json()\n",
    "    return Document(\n",
    "        page_content=list(data[\"query\"][\"pages\"].values())[0][\"extract\"],\n",
    "        metadata={\"source\": f\"https://en.wikipedia.org/wiki/{title}\"},\n",
    "    )"
   ]
  },
  {
   "cell_type": "code",
   "execution_count": 5,
   "id": "76abd44c",
   "metadata": {},
   "outputs": [],
   "source": [
    "sources = [\n",
    "    get_wiki_data(\"Unix\", True),\n",
    "    get_wiki_data(\"Microsoft_Windows\", True),\n",
    "    get_wiki_data(\"Linux\", True),\n",
    "    get_wiki_data(\"Seinfeld\", True),\n",
    "]"
   ]
  },
  {
   "cell_type": "code",
   "execution_count": 6,
   "id": "673f60bd",
   "metadata": {},
   "outputs": [],
   "source": [
    "chain = load_qa_with_sources_chain(OpenAI(temperature=0))\n",
    "\n",
    "def print_answer(question):\n",
    "    print(\n",
    "        chain(\n",
    "            {\n",
    "                \"input_documents\": sources,\n",
    "                \"question\": question,\n",
    "            },\n",
    "            return_only_outputs=True,\n",
    "        )[\"output_text\"]\n",
    "    )"
   ]
  },
  {
   "cell_type": "code",
   "execution_count": 7,
   "id": "07c22034",
   "metadata": {},
   "outputs": [
    {
     "name": "stdout",
     "output_type": "stream",
     "text": [
      " The writers of Seinfeld were Larry David, Jerry Seinfeld, Larry Charles, Peter Mehlman, Gregg Kavet, Carol Leifer, David Mandel, Jeff Schaffer, Steve Koren, Jennifer Crittenden, Tom Gammill, Max Pross, Dan O'Keefe, Charlie Rubin, Marjorie Gross, Alec Berg, Elaine Pope and Spike Feresten.\n",
      "SOURCES: https://en.wikipedia.org/wiki/Seinfeld\n"
     ]
    }
   ],
   "source": [
    "print_answer(\"Who were the writers of Seinfeld?\")"
   ]
  }
 ],
 "metadata": {
  "kernelspec": {
   "display_name": "Python 3 (ipykernel)",
   "language": "python",
   "name": "python3"
  },
  "language_info": {
   "codemirror_mode": {
    "name": "ipython",
    "version": 3
   },
   "file_extension": ".py",
   "mimetype": "text/x-python",
   "name": "python",
   "nbconvert_exporter": "python",
   "pygments_lexer": "ipython3",
   "version": "3.9.13"
  },
  "vscode": {
   "interpreter": {
    "hash": "31f2aee4e71d21fbe5cf8b01ff0e069b9275f58929596ceb00d14d90e3e16cd6"
   }
  }
 },
 "nbformat": 4,
 "nbformat_minor": 5
}
