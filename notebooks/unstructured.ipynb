{
 "cells": [
  {
   "cell_type": "markdown",
   "metadata": {},
   "source": [
    "# Unstructured Data Loading"
   ]
  },
  {
   "cell_type": "code",
   "execution_count": 7,
   "metadata": {},
   "outputs": [
    {
     "name": "stdout",
     "output_type": "stream",
     "text": [
      "Note: you may need to restart the kernel to use updated packages.\n"
     ]
    }
   ],
   "source": [
    "%pip install -qU unstructured"
   ]
  },
  {
   "cell_type": "code",
   "execution_count": 8,
   "metadata": {},
   "outputs": [
    {
     "name": "stdout",
     "output_type": "stream",
     "text": [
      "--2023-02-10 22:46:21--  https://raw.githubusercontent.com/Unstructured-IO/unstructured/main/example-docs/example-10k.html\n",
      "Resolving raw.githubusercontent.com (raw.githubusercontent.com)... 2606:50c0:8002::154, 2606:50c0:8003::154, 2606:50c0:8000::154, ...\n",
      "Connecting to raw.githubusercontent.com (raw.githubusercontent.com)|2606:50c0:8002::154|:443... connected.\n",
      "HTTP request sent, awaiting response... 200 OK\n",
      "Length: 2456707 (2.3M) [text/plain]\n",
      "Saving to: ‘example-docs/example-10k.html’\n",
      "\n",
      "example-10k.html    100%[===================>]   2.34M  --.-KB/s    in 0.1s    \n",
      "\n",
      "2023-02-10 22:46:22 (17.5 MB/s) - ‘example-docs/example-10k.html’ saved [2456707/2456707]\n",
      "\n",
      "--2023-02-10 22:46:22--  https://raw.githubusercontent.com/Unstructured-IO/unstructured/main/example-docs/layout-parser-paper.pdf\n",
      "Resolving raw.githubusercontent.com (raw.githubusercontent.com)... 2606:50c0:8003::154, 2606:50c0:8000::154, 2606:50c0:8001::154, ...\n",
      "Connecting to raw.githubusercontent.com (raw.githubusercontent.com)|2606:50c0:8003::154|:443... connected.\n",
      "HTTP request sent, awaiting response... 200 OK\n",
      "Length: 4686220 (4.5M) [application/octet-stream]\n",
      "Saving to: ‘example-docs/layout-parser-paper.pdf’\n",
      "\n",
      "layout-parser-paper 100%[===================>]   4.47M  23.2MB/s    in 0.2s    \n",
      "\n",
      "2023-02-10 22:46:22 (23.2 MB/s) - ‘example-docs/layout-parser-paper.pdf’ saved [4686220/4686220]\n",
      "\n"
     ]
    }
   ],
   "source": [
    "!rm -r example-docs\n",
    "!mkdir example-docs\n",
    "# Install example-10k.html and layout-parser-paper.pdf\n",
    "!wget  https://raw.githubusercontent.com/Unstructured-IO/unstructured/main/example-docs/example-10k.html -P example-docs\n",
    "!wget  https://raw.githubusercontent.com/Unstructured-IO/unstructured/main/example-docs/layout-parser-paper.pdf -P example-docs"
   ]
  },
  {
   "cell_type": "code",
   "execution_count": 9,
   "metadata": {},
   "outputs": [
    {
     "name": "stderr",
     "output_type": "stream",
     "text": [
      "[nltk_data] Downloading package punkt to\n",
      "[nltk_data]     /Users/martinfabbri/nltk_data...\n",
      "[nltk_data]   Package punkt is already up-to-date!\n",
      "[nltk_data] Downloading package averaged_perceptron_tagger to\n",
      "[nltk_data]     /Users/martinfabbri/nltk_data...\n",
      "[nltk_data]   Package averaged_perceptron_tagger is already up-to-\n",
      "[nltk_data]       date!\n"
     ]
    },
    {
     "data": {
      "text/plain": [
       "True"
      ]
     },
     "execution_count": 9,
     "metadata": {},
     "output_type": "execute_result"
    }
   ],
   "source": [
    "# Install NLTK Data\n",
    "import nltk\n",
    "nltk.download('punkt')\n",
    "nltk.download('averaged_perceptron_tagger')"
   ]
  },
  {
   "cell_type": "markdown",
   "metadata": {},
   "source": [
    "### HTML Parsing\n",
    "\n",
    "You can parse an HTML document using the following workflow:"
   ]
  },
  {
   "cell_type": "code",
   "execution_count": 10,
   "metadata": {},
   "outputs": [],
   "source": [
    "from unstructured.documents.html import HTMLDocument\n",
    "\n",
    "doc = HTMLDocument.from_file(\"example-docs/example-10k.html\")"
   ]
  },
  {
   "cell_type": "code",
   "execution_count": 11,
   "metadata": {},
   "outputs": [
    {
     "name": "stdout",
     "output_type": "stream",
     "text": [
      "SPECIAL NOTE REGARDING FORWARD-LOOKING STATEMENTS\n",
      "\n",
      "This report contains statements that do not relate to historical or current facts but are “forward-looking” statements. These statements relate to analyses and other information based on forecasts of future results and estimates of amounts not yet determinable. These statements may also relate to future events or trends, our future prospects and proposed new products, services, developments or business strategies, among other things. These statements can generally (although not always) be identified by their use of terms and phrases such as anticipate, appear, believe, could, would, estimate, expect, indicate, intent, may, plan, predict, project, pursue, will continue and other similar terms and phrases, as well as the use of the future tense.\n",
      "\n",
      "Actual results could differ materially from those expressed or implied in our forward-looking statements. Our future financial condition and results of operations, as well as any forward-looking statements, are subject to change and to inherent known and unknown risks and uncertainties. You should not assume at any point in the future that the forward-looking statements in this report are still valid. We do not intend, and undertake no obligation, to update our forward-looking statements to reflect future events or circumstances.\n"
     ]
    }
   ],
   "source": [
    "print(doc.pages[2])"
   ]
  },
  {
   "cell_type": "code",
   "execution_count": 40,
   "metadata": {},
   "outputs": [],
   "source": [
    "f = open(\"example-docs/python_plugin.html\", \"r\")\n",
    "text = f.read()\n",
    "f.close()"
   ]
  },
  {
   "cell_type": "code",
   "execution_count": 41,
   "metadata": {},
   "outputs": [
    {
     "data": {
      "text/plain": [
       "'Custom Conda Environment:\\nFollow the steps mentioned'"
      ]
     },
     "execution_count": 41,
     "metadata": {},
     "output_type": "execute_result"
    }
   ],
   "source": [
    "match_index = text.find(\"Follow the steps mentioned\")\n",
    "text[match_index-26:match_index+26]"
   ]
  },
  {
   "cell_type": "code",
   "execution_count": 42,
   "metadata": {},
   "outputs": [
    {
     "data": {
      "text/plain": [
       "'Custom Conda Environment:\\nFollow the steps mentioned'"
      ]
     },
     "execution_count": 42,
     "metadata": {},
     "output_type": "execute_result"
    }
   ],
   "source": [
    "from unstructured.cleaners.core import clean_prefix\n",
    "text = clean_prefix(text, r\"1. \")\n",
    "match_index = text.find(\"Follow the steps mentioned\")\n",
    "text[match_index-26:match_index+26]"
   ]
  },
  {
   "cell_type": "code",
   "execution_count": 27,
   "metadata": {},
   "outputs": [
    {
     "name": "stdout",
     "output_type": "stream",
     "text": [
      "1\n"
     ]
    }
   ],
   "source": [
    "#doc = HTMLDocument.from_file(\"example-docs/python_plugin.html\")\n",
    "doc = HTMLDocument.from_string(text)\n",
    "print(len(doc.pages))"
   ]
  },
  {
   "cell_type": "code",
   "execution_count": null,
   "metadata": {},
   "outputs": [],
   "source": [
    "print(doc.pages[0])"
   ]
  },
  {
   "cell_type": "code",
   "execution_count": null,
   "metadata": {},
   "outputs": [],
   "source": [
    "doc.pages[0].elements"
   ]
  },
  {
   "cell_type": "code",
   "execution_count": null,
   "metadata": {},
   "outputs": [],
   "source": [
    "print(doc.pages[0].elements[0])\n",
    "print(doc.pages[0].elements[2])\n",
    "print(doc.pages[0].elements[20])\n",
    "print(doc.pages[0].elements[21])\n",
    "print(doc.pages[0].elements[100])\n",
    "print(doc.pages[0].elements[101])"
   ]
  },
  {
   "cell_type": "code",
   "execution_count": null,
   "metadata": {},
   "outputs": [],
   "source": [
    "for element in doc.pages[0].elements:\n",
    "    print(element)"
   ]
  },
  {
   "cell_type": "code",
   "execution_count": null,
   "metadata": {},
   "outputs": [],
   "source": [
    "from unstructured.documents.elements import NarrativeText\n",
    "for element in doc.pages[0].elements:\n",
    "    if isinstance(element, NarrativeText): \n",
    "        print(element)"
   ]
  },
  {
   "cell_type": "code",
   "execution_count": null,
   "metadata": {},
   "outputs": [],
   "source": [
    "from unstructured.documents.elements import Title\n",
    "for element in doc.pages[0].elements:\n",
    "    if isinstance(element, Title): \n",
    "        print(element)"
   ]
  },
  {
   "cell_type": "code",
   "execution_count": 45,
   "metadata": {},
   "outputs": [
    {
     "name": "stdout",
     "output_type": "stream",
     "text": [
      "Features of o9 Python Plugin[edit | edit source]\n",
      "Get Started[edit | edit source]\n",
      "Create Environment Files for WSL/Ubuntu[edit | edit source]\n",
      "Tenant with Conda Environment and Python Packages[1][edit | edit source]\n",
      "Python Conda Packages Environment Features in the UI[edit | edit source]\n",
      "Custom Conda Environment[edit | edit source]\n",
      "Python 3.7 Standard Environment[edit | edit source]\n",
      "Configure the Python Plugin from the o9 User Interface[edit | edit source]\n",
      "Instance Options[edit | edit source]\n",
      "Script Code[edit | edit source]\n",
      "Settings[edit | edit source]\n",
      "Script Params[edit | edit source]\n",
      "Input Tables (M)[edit | edit source]\n",
      "Output Tables (M)[edit | edit source]\n",
      "Slice Dimension Attributes (M)[edit | edit source]\n",
      "Exceptions (M)[edit | edit source]\n",
      "Dynamic Parameters Available for o9 Python Plugin[edit | edit source]\n",
      "Storage Layer[edit | edit source]\n",
      "Sample Walkthrough of a Basic Python Plugin[edit | edit source]\n",
      "Create Python Plugin[edit | edit source]\n",
      "Importance of Slicing in Python Plugin[edit | edit source]\n",
      "Use Code Packages with Python Plugins[edit | edit source]\n",
      "Using Data Files in Modules[edit | edit source]\n",
      "How to Use and Configure Python Plugin[edit | edit source]\n",
      "Setting Up for Success[edit | edit source]\n",
      "Compatibility with o9 Conda Environment[edit | edit source]\n",
      "Habits for Quick Debugging[edit | edit source]\n",
      "Getting Started with Execution[edit | edit source]\n",
      "Troubleshooting[edit | edit source]\n",
      "Auto Resource Memory Allocation[edit | edit source]\n",
      "Basic[edit | edit source]\n",
      "Enhanced[edit | edit source]\n",
      "Debugging[edit | edit source]\n",
      "Enable and View Logs[edit | edit source]\n",
      "Enable Logging[edit | edit source]\n",
      "View the Logs[edit | edit source]\n",
      "Debugging Script Locally[edit | edit source]\n",
      "Debug using PyCharm[edit | edit source]\n",
      "Debug using Jupyter Notebook[edit | edit source]\n",
      "How to Develop/Debug Python Plugins Locally[edit | edit source]\n",
      "Handling Categorical Data Types in Python Plugin[edit | edit source]\n",
      "AI Predict Plugin[edit | edit source]\n",
      "Introduction[edit | edit source]\n",
      "Terminology[edit | edit source]\n",
      "Prerequisite - Setup Dimensions and Measures[edit | edit source]\n",
      "Configuration[edit | edit source]\n",
      "Instance Options[edit | edit source]\n",
      "Tournament Options[edit | edit source]\n",
      "Dimensions[edit | edit source]\n",
      "Predict Measure[edit | edit source]\n",
      "Input Measures[edit | edit source]\n",
      "Predict levels[edit | edit source]\n",
      "Input Measure Defaults / Dimension Defaults[edit | edit source]\n",
      "Slicing Options[edit | edit source]\n",
      "Slicing Levels Explained[edit | edit source]\n",
      "EOL(End-of-Life) / NPI (New Product Introduction) Items Options[edit | edit source]\n",
      "NPI/EOL[edit | edit source]\n",
      "Execution[edit | edit source]\n",
      "Workflow 1 – Tournament - Forecast[edit | edit source]\n",
      "Workflow 2 – Adding the Train Mode[edit | edit source]\n",
      "Example of Lag & Lead with Number Examples[edit | edit source]\n",
      "Debugging[edit | edit source]\n",
      "Tournament vs Train vs Predict[edit | edit source]\n",
      "Homogenization[edit | edit source]\n",
      "Higher Level Prediction[edit | edit source]\n",
      "Algorithm[edit | edit source]\n",
      "Support for Additional Hierarchy[edit | edit source]\n",
      "o9Predict.ai - Stacked Recipe[edit | edit source]\n",
      "Lightweight Plugin[edit | edit source]\n",
      "Synthetic Data Generation[edit | edit source]\n",
      "Add Synthetic Data Generation Python Plugin[edit | edit source]\n",
      "Modes to Execute Plugin[edit | edit source]\n",
      "Use Cases[edit | edit source]\n",
      "Input Options[edit | edit source]\n",
      "INSTANCE OPTIONS[edit | edit source]\n",
      "DATA GEN CONFIG[edit | edit source]\n",
      "Current Assumptions[edit | edit source]\n",
      "MediumWeight Plugin[edit | edit source]\n",
      "Execution Mode Comparison for Python Plugin[edit | edit source]\n",
      "PySpark Plugin[edit | edit source]\n",
      "Git – Code Library 2.0[edit | edit source]\n",
      "o9-JHub Integration[edit | edit source]\n",
      "Launch JHub[edit | edit source]\n",
      "IBPL Execution[edit | edit source]\n",
      "Update Python Plugin[edit | edit source]\n",
      "Manage Code in Git Repo[edit | edit source]\n",
      "Install a Repo in JHub Environment[edit | edit source]\n",
      "PySpark Support - JHub[edit | edit source]\n",
      "PySpark Notebook[edit | edit source]\n",
      "EDA in o9 JHub - Data Profiler Extension[edit | edit source]\n",
      "Pandas Profile[edit | edit source]\n",
      "PySpark Profile[edit | edit source]\n",
      "o9 JupyterHub Extensions[edit | edit source]\n",
      "Load & Save Plugin[edit | edit source]\n",
      "PysparkNotebook[edit | edit source]\n",
      "UploadFileToCluster[edit | edit source]\n",
      "DataProfiler[edit | edit source]\n",
      "PandasProfile[edit | edit source]\n",
      "LS Query[edit | edit source]\n",
      "CSV File[edit | edit source]\n",
      "PysparkProfile[edit | edit source]\n",
      "LS Query[edit | edit source]\n",
      "CSV File[edit | edit source]\n",
      "Hive Query[edit | edit source]\n",
      "ManageSparkSessions[edit | edit source]\n",
      "o9 Git Extension[edit | edit source]\n",
      "Create a Plugin Using Jhub[edit | edit source]\n",
      "Parquet File Transfer Support[edit | edit source]\n",
      "MLflow Integration with o9 - Jhub/Plugins[edit | edit source]\n",
      "Cluster Scaling[edit | edit source]\n",
      "API Calls[edit | edit source]\n",
      "Ping Route[edit | edit source]\n",
      "Job Info Route[edit | edit source]\n",
      "Test Bed Setup[edit | edit source]\n",
      "How to Trigger Scale Up/Scale Down from SSIS[edit | edit source]\n",
      "Test Case[edit | edit source]\n",
      "Standalone Smoke Test[edit | edit source]\n",
      "Cluster Management Dashboard[edit | edit source]\n",
      "o9Flow: Lightweight & Mediumweight Plugins[edit | edit source]\n",
      "File Downloader[edit | edit source]\n",
      "Frequently Asked Questions (FAQs)[edit | edit source]\n"
     ]
    }
   ],
   "source": [
    "from unstructured.documents.elements import Title\n",
    "\n",
    "titles_index = {}\n",
    "for element in doc.pages[0].elements:\n",
    "    if isinstance(element, Title) and element.text.endswith(\"[edit | edit source]\"):\n",
    "        print(element)"
   ]
  }
 ],
 "metadata": {
  "kernelspec": {
   "display_name": "langchain",
   "language": "python",
   "name": "python3"
  },
  "language_info": {
   "codemirror_mode": {
    "name": "ipython",
    "version": 3
   },
   "file_extension": ".py",
   "mimetype": "text/x-python",
   "name": "python",
   "nbconvert_exporter": "python",
   "pygments_lexer": "ipython3",
   "version": "3.8.15"
  },
  "orig_nbformat": 4,
  "vscode": {
   "interpreter": {
    "hash": "1fb87cf5dfb1c5653a07f4b787a2a8bd48f3b79e601b122bcbc78628856ba2be"
   }
  }
 },
 "nbformat": 4,
 "nbformat_minor": 2
}
