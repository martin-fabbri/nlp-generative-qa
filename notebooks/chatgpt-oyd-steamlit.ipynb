{
 "cells": [
  {
   "cell_type": "markdown",
   "metadata": {},
   "source": [
    "# ChatGPT On Your Data(OYD)\n",
    "#### Streamlit Chat App"
   ]
  },
  {
   "cell_type": "code",
   "execution_count": 16,
   "metadata": {},
   "outputs": [
    {
     "name": "stdout",
     "output_type": "stream",
     "text": [
      "\u001b[33mWARNING: Running pip as the 'root' user can result in broken permissions and conflicting behaviour with the system package manager. It is recommended to use a virtual environment instead: https://pip.pypa.io/warnings/venv\u001b[0m\u001b[33m\n",
      "\u001b[0mNote: you may need to restart the kernel to use updated packages.\n",
      "\u001b[33mWARNING: Running pip as the 'root' user can result in broken permissions and conflicting behaviour with the system package manager. It is recommended to use a virtual environment instead: https://pip.pypa.io/warnings/venv\u001b[0m\u001b[33m\n",
      "\u001b[0mNote: you may need to restart the kernel to use updated packages.\n",
      "\u001b[33mWARNING: Running pip as the 'root' user can result in broken permissions and conflicting behaviour with the system package manager. It is recommended to use a virtual environment instead: https://pip.pypa.io/warnings/venv\u001b[0m\u001b[33m\n",
      "\u001b[0mNote: you may need to restart the kernel to use updated packages.\n",
      "\u001b[33mWARNING: Running pip as the 'root' user can result in broken permissions and conflicting behaviour with the system package manager. It is recommended to use a virtual environment instead: https://pip.pypa.io/warnings/venv\u001b[0m\u001b[33m\n",
      "\u001b[0mNote: you may need to restart the kernel to use updated packages.\n",
      "\u001b[31mERROR: pip's dependency resolver does not currently take into account all the packages that are installed. This behaviour is the source of the following dependency conflicts.\n",
      "gradient 2.0.5 requires marshmallow<3.0, but you have marshmallow 3.19.0 which is incompatible.\n",
      "gradient 2.0.5 requires PyYAML==5.*, but you have pyyaml 6.0 which is incompatible.\u001b[0m\u001b[31m\n",
      "\u001b[0m\u001b[33mWARNING: Running pip as the 'root' user can result in broken permissions and conflicting behaviour with the system package manager. It is recommended to use a virtual environment instead: https://pip.pypa.io/warnings/venv\u001b[0m\u001b[33m\n",
      "\u001b[0mNote: you may need to restart the kernel to use updated packages.\n",
      "\u001b[33mWARNING: Running pip as the 'root' user can result in broken permissions and conflicting behaviour with the system package manager. It is recommended to use a virtual environment instead: https://pip.pypa.io/warnings/venv\u001b[0m\u001b[33m\n",
      "\u001b[0mNote: you may need to restart the kernel to use updated packages.\n"
     ]
    }
   ],
   "source": [
    "%pip install -qU langchain\n",
    "%pip install -qU openai\n",
    "%pip install -qU streamlit\n",
    "%pip install -qU streamlit-chat\n",
    "%pip install -qU unstructured\n",
    "%pip install -qU beautifulsoup4\n",
    "#%pip install -qU faiss-cpu\n",
    "#%pip install -qU faiss-gpu"
   ]
  },
  {
   "cell_type": "code",
   "execution_count": 9,
   "metadata": {},
   "outputs": [],
   "source": [
    "import os\n",
    "# openai API key\n",
    "os.environ[\"OPENAI_API_KEY\"] = \"KEY_GOES_HERE\""
   ]
  },
  {
   "cell_type": "code",
   "execution_count": null,
   "metadata": {},
   "outputs": [],
   "source": [
    "import nltk\n",
    "nltk.download('punkt')\n",
    "nltk.download('averaged_perceptron_tagger')"
   ]
  },
  {
   "attachments": {},
   "cell_type": "markdown",
   "metadata": {},
   "source": [
    "### Install localtunnel\n",
    "\n",
    "```bash\n",
    "$ npm install localtunnel\n",
    "$ npx localtunnel --port 8501\n",
    "````"
   ]
  },
  {
   "attachments": {},
   "cell_type": "markdown",
   "metadata": {},
   "source": [
    "### Streamlit Chatt App"
   ]
  },
  {
   "cell_type": "code",
   "execution_count": 17,
   "metadata": {},
   "outputs": [
    {
     "ename": "NameError",
     "evalue": "name 'UnstructuredFileLoader' is not defined",
     "output_type": "error",
     "traceback": [
      "\u001b[0;31m---------------------------------------------------------------------------\u001b[0m",
      "\u001b[0;31mNameError\u001b[0m                                 Traceback (most recent call last)",
      "\u001b[1;32mc:\\Users\\pr_fa\\workspace\\github\\nlp-generative-qa\\notebooks\\chatgpt-oyd-steamlit.ipynb Cell 7\u001b[0m in \u001b[0;36m<cell line: 1>\u001b[0;34m()\u001b[0m\n\u001b[0;32m----> <a href='vscode-notebook-cell:/c%3A/Users/pr_fa/workspace/github/nlp-generative-qa/notebooks/chatgpt-oyd-steamlit.ipynb#X23sZmlsZQ%3D%3D?line=0'>1</a>\u001b[0m UnstructuredFileLoader\n",
      "\u001b[0;31mNameError\u001b[0m: name 'UnstructuredFileLoader' is not defined"
     ]
    }
   ],
   "source": [
    "UnstructuredFileLoader"
   ]
  },
  {
   "cell_type": "code",
   "execution_count": 14,
   "metadata": {},
   "outputs": [
    {
     "name": "stdout",
     "output_type": "stream",
     "text": [
      "Overwriting app.py\n"
     ]
    }
   ],
   "source": [
    "%%writefile app.py\n",
    "import streamlit as st\n",
    "from streamlit_chat import message\n",
    "\n",
    "from langchain.chains import ConversationChain\n",
    "from langchain.document_loaders import UnstructuredFileLoader\n",
    "from langchain.llms import OpenAI\n",
    "\n",
    "def embed_doc():\n",
    "    loader = UnstructuredFileLoader(\"state_of_the_union.txt\")\n",
    "    raw_documents = loader.load()\n",
    "    \n",
    "\n",
    "def load_chain():\n",
    "    \"\"\"Logic for loading the chain you want to use\"\"\"\n",
    "    llm = OpenAI(temperature=0)\n",
    "    chain = ConversationChain(llm=llm)\n",
    "    return chain\n",
    "\n",
    "chain = load_chain()\n",
    "\n",
    "st.set_page_config(page_title=\"Chat+Memory Demo\", page_icon=\":robot:\")\n",
    "st.header(\"Chat+Memory Demo\")\n",
    "\n",
    "if \"generated\" not in st.session_state:\n",
    "    st.session_state[\"generated\"] = []\n",
    "\n",
    "if \"past\" not in st.session_state:\n",
    "    st.session_state[\"past\"] = []\n",
    "\n",
    "def get_text():\n",
    "    input_text = st.text_input(\"You:\", \"Hello, how are you?\", key=\"input\")\n",
    "    return input_text\n",
    "\n",
    "user_input = get_text()\n",
    "\n",
    "if user_input:\n",
    "    output = chain.run(input=user_input)\n",
    "    st.session_state.past.append(user_input)\n",
    "    st.session_state.generated.append(output)\n",
    "\n",
    "if st.session_state[\"generated\"]:\n",
    "    for i in range(len(st.session_state[\"generated\"]) -1, -1, -1):\n",
    "        message(st.session_state[\"generated\"][i], key=str(i))\n",
    "        message(st.session_state[\"past\"][i], is_user=True, key=str(i) + \"_user\") \n"
   ]
  },
  {
   "cell_type": "code",
   "execution_count": 15,
   "metadata": {},
   "outputs": [
    {
     "name": "stdout",
     "output_type": "stream",
     "text": [
      "\n",
      "Collecting usage statistics. To deactivate, set browser.gatherUsageStats to False.\n",
      "\u001b[0m\n",
      "\u001b[0m\n",
      "\u001b[34m\u001b[1m  You can now view your Streamlit app in your browser.\u001b[0m\n",
      "\u001b[0m\n",
      "\u001b[34m  Network URL: \u001b[0m\u001b[1mhttp://10.42.51.82:8501\u001b[0m\n",
      "\u001b[34m  External URL: \u001b[0m\u001b[1mhttp://172.83.13.4:8501\u001b[0m\n",
      "\u001b[0m\n",
      "^C\n",
      "\u001b[34m  Stopping...\u001b[0m\n"
     ]
    }
   ],
   "source": [
    "!streamlit run app.py"
   ]
  }
 ],
 "metadata": {
  "kernelspec": {
   "display_name": "Python 3 (ipykernel)",
   "language": "python",
   "name": "python3"
  },
  "language_info": {
   "codemirror_mode": {
    "name": "ipython",
    "version": 3
   },
   "file_extension": ".py",
   "mimetype": "text/x-python",
   "name": "python",
   "nbconvert_exporter": "python",
   "pygments_lexer": "ipython3",
   "version": "3.9.13"
  },
  "orig_nbformat": 4
 },
 "nbformat": 4,
 "nbformat_minor": 2
}
