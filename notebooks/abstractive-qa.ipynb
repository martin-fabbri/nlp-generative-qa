{
 "cells": [
  {
   "cell_type": "code",
   "execution_count": 2,
   "id": "25914f41-509b-4cf7-bbc5-9b125951c60b",
   "metadata": {},
   "outputs": [
    {
     "name": "stdout",
     "output_type": "stream",
     "text": [
      "\u001b[33mWARNING: Running pip as the 'root' user can result in broken permissions and conflicting behaviour with the system package manager. It is recommended to use a virtual environment instead: https://pip.pypa.io/warnings/venv\u001b[0m\u001b[33m\n",
      "\u001b[0m"
     ]
    }
   ],
   "source": [
    "!pip install -qU datasets pinecone-client sentence-transformers torch"
   ]
  },
  {
   "cell_type": "code",
   "execution_count": 3,
   "id": "267d0dea-d436-48f8-8b02-f61a138e5dab",
   "metadata": {},
   "outputs": [
    {
     "data": {
      "application/vnd.jupyter.widget-view+json": {
       "model_id": "c83a938873054ba68661cf65f796f0cc",
       "version_major": 2,
       "version_minor": 0
      },
      "text/plain": [
       "Downloading builder script:   0%|          | 0.00/4.58k [00:00<?, ?B/s]"
      ]
     },
     "metadata": {},
     "output_type": "display_data"
    }
   ],
   "source": [
    "from datasets import load_dataset\n",
    "\n",
    "# load the dataset from huggingface in streaming mode and shuffle it\n",
    "wiki_data = load_dataset(\n",
    "    'vblagoje/wikipedia_snippets_streamed',\n",
    "    split='train',\n",
    "    streaming=True\n",
    ").shuffle(seed=960)"
   ]
  },
  {
   "cell_type": "code",
   "execution_count": 4,
   "id": "dead20bb-7df2-4314-ac1e-3fe11fb75090",
   "metadata": {},
   "outputs": [
    {
     "data": {
      "text/plain": [
       "{'wiki_id': 'Q7649565',\n",
       " 'start_paragraph': 20,\n",
       " 'start_character': 272,\n",
       " 'end_paragraph': 24,\n",
       " 'end_character': 380,\n",
       " 'article_title': 'Sustainable Agriculture Research and Education',\n",
       " 'section_title': \"2000s & Evaluation of the program's effectiveness\",\n",
       " 'passage_text': \"preserving the surrounding prairies. It ran until March 31, 2001.\\nIn 2008, SARE celebrated its 20th anniversary. To that date, the program had funded 3,700 projects and was operating with an annual budget of approximately $19 million. Evaluation of the program's effectiveness As of 2008, 64% of farmers who had received SARE grants stated that they had been able to earn increased profits as a result of the funding they received and utilization of sustainable agriculture methods. Additionally, 79% of grantees said that they had experienced a significant improvement in soil quality though the environmentally friendly, sustainable methods that they were\"}"
      ]
     },
     "execution_count": 4,
     "metadata": {},
     "output_type": "execute_result"
    }
   ],
   "source": [
    "# show the contents of a single document in the dataset\n",
    "next(iter(wiki_data))"
   ]
  },
  {
   "cell_type": "code",
   "execution_count": 5,
   "id": "6f9e85f8-8234-4396-8bbb-a1e898f652fe",
   "metadata": {},
   "outputs": [],
   "source": [
    "# filter only documents with History as section_title\n",
    "history = wiki_data.filter(\n",
    "    lambda d: d['section_title'].startswith('History')\n",
    ")"
   ]
  },
  {
   "cell_type": "code",
   "execution_count": 6,
   "id": "428a8ef3-e294-4dcf-b7f1-dbef91b992d3",
   "metadata": {},
   "outputs": [
    {
     "data": {
      "application/vnd.jupyter.widget-view+json": {
       "model_id": "affff7157b364d509edd2793b336789b",
       "version_major": 2,
       "version_minor": 0
      },
      "text/plain": [
       "  0%|          | 0/50000 [00:00<?, ?it/s]"
      ]
     },
     "metadata": {},
     "output_type": "display_data"
    }
   ],
   "source": [
    "from tqdm.auto import tqdm  # progress bar\n",
    "\n",
    "total_doc_count = 50000\n",
    "\n",
    "counter = 0\n",
    "docs = []\n",
    "# iterate through the dataset and apply our filter\n",
    "for d in tqdm(history, total=total_doc_count):\n",
    "    # extract the fields we need\n",
    "    doc = {\n",
    "        \"article_title\": d[\"article_title\"],\n",
    "        \"section_title\": d[\"section_title\"],\n",
    "        \"passage_text\": d[\"passage_text\"]\n",
    "    }\n",
    "    # add the dict containing fields we need to docs list\n",
    "    docs.append(doc)\n",
    "\n",
    "    # stop iteration once we reach 50k\n",
    "    if counter == total_doc_count:\n",
    "        break\n",
    "\n",
    "    # increase the counter on every iteration\n",
    "    counter += 1"
   ]
  },
  {
   "cell_type": "code",
   "execution_count": 8,
   "id": "0e707f98-05ca-4aae-ab5d-2d111669c198",
   "metadata": {},
   "outputs": [
    {
     "data": {
      "text/html": [
       "<div>\n",
       "<style scoped>\n",
       "    .dataframe tbody tr th:only-of-type {\n",
       "        vertical-align: middle;\n",
       "    }\n",
       "\n",
       "    .dataframe tbody tr th {\n",
       "        vertical-align: top;\n",
       "    }\n",
       "\n",
       "    .dataframe thead th {\n",
       "        text-align: right;\n",
       "    }\n",
       "</style>\n",
       "<table border=\"1\" class=\"dataframe\">\n",
       "  <thead>\n",
       "    <tr style=\"text-align: right;\">\n",
       "      <th></th>\n",
       "      <th>article_title</th>\n",
       "      <th>section_title</th>\n",
       "      <th>passage_text</th>\n",
       "    </tr>\n",
       "  </thead>\n",
       "  <tbody>\n",
       "    <tr>\n",
       "      <th>0</th>\n",
       "      <td>Taupo District</td>\n",
       "      <td>History</td>\n",
       "      <td>was not until the 1950s that the region starte...</td>\n",
       "    </tr>\n",
       "    <tr>\n",
       "      <th>1</th>\n",
       "      <td>Sutarfeni</td>\n",
       "      <td>History &amp; Western asian analogues</td>\n",
       "      <td>Sutarfeni History strand-like pheni were Phena...</td>\n",
       "    </tr>\n",
       "    <tr>\n",
       "      <th>2</th>\n",
       "      <td>The Bishop Wand Church of England School</td>\n",
       "      <td>History</td>\n",
       "      <td>The Bishop Wand Church of England School Histo...</td>\n",
       "    </tr>\n",
       "    <tr>\n",
       "      <th>3</th>\n",
       "      <td>Teufelsmoor</td>\n",
       "      <td>History &amp; Situation today</td>\n",
       "      <td>made to preserve the original landscape, altho...</td>\n",
       "    </tr>\n",
       "    <tr>\n",
       "      <th>4</th>\n",
       "      <td>Surface Hill Uniting Church</td>\n",
       "      <td>History</td>\n",
       "      <td>in perpetual reminder that work and worship go...</td>\n",
       "    </tr>\n",
       "  </tbody>\n",
       "</table>\n",
       "</div>"
      ],
      "text/plain": [
       "                              article_title  \\\n",
       "0                            Taupo District   \n",
       "1                                 Sutarfeni   \n",
       "2  The Bishop Wand Church of England School   \n",
       "3                               Teufelsmoor   \n",
       "4               Surface Hill Uniting Church   \n",
       "\n",
       "                       section_title  \\\n",
       "0                            History   \n",
       "1  History & Western asian analogues   \n",
       "2                            History   \n",
       "3          History & Situation today   \n",
       "4                            History   \n",
       "\n",
       "                                        passage_text  \n",
       "0  was not until the 1950s that the region starte...  \n",
       "1  Sutarfeni History strand-like pheni were Phena...  \n",
       "2  The Bishop Wand Church of England School Histo...  \n",
       "3  made to preserve the original landscape, altho...  \n",
       "4  in perpetual reminder that work and worship go...  "
      ]
     },
     "execution_count": 8,
     "metadata": {},
     "output_type": "execute_result"
    }
   ],
   "source": [
    "import pandas as pd\n",
    "\n",
    "# create a pandas dataframe with the documents we extracted\n",
    "df = pd.DataFrame(docs)\n",
    "df.head()"
   ]
  },
  {
   "cell_type": "code",
   "execution_count": null,
   "id": "a53ece34-7885-43a1-87d1-825ee259a264",
   "metadata": {},
   "outputs": [],
   "source": [
    "import pinecone\n",
    "\n",
    "# connect to pinecone environment\n",
    "pinecone.init(\n",
    "    api_key=\"YOUR_API_KEY\",\n",
    "    environment=\"YOUR_ENV\"  # find next to API key in console\n",
    ")"
   ]
  }
 ],
 "metadata": {
  "kernelspec": {
   "display_name": "Python 3 (ipykernel)",
   "language": "python",
   "name": "python3"
  },
  "language_info": {
   "codemirror_mode": {
    "name": "ipython",
    "version": 3
   },
   "file_extension": ".py",
   "mimetype": "text/x-python",
   "name": "python",
   "nbconvert_exporter": "python",
   "pygments_lexer": "ipython3",
   "version": "3.9.13"
  }
 },
 "nbformat": 4,
 "nbformat_minor": 5
}
