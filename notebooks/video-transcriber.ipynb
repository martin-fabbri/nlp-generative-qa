{
 "cells": [
  {
   "cell_type": "markdown",
   "id": "4b22b501-1c32-497f-81f0-1f5107112de7",
   "metadata": {},
   "source": [
    "# Video Transcriber"
   ]
  },
  {
   "cell_type": "markdown",
   "id": "6a350b15-efc0-4391-9870-8d38bcc441fc",
   "metadata": {},
   "source": [
    "## Install OpenAI whisper"
   ]
  },
  {
   "cell_type": "code",
   "execution_count": 6,
   "id": "86c221dc-5049-476f-b728-4ee1b7e8aa58",
   "metadata": {},
   "outputs": [
    {
     "name": "stdout",
     "output_type": "stream",
     "text": [
      "\u001b[33mWARNING: Running pip as the 'root' user can result in broken permissions and conflicting behaviour with the system package manager. It is recommended to use a virtual environment instead: https://pip.pypa.io/warnings/venv\u001b[0m\u001b[33m\n",
      "\u001b[0mNote: you may need to restart the kernel to use updated packages.\n",
      "Hit:1 https://deb.nodesource.com/node_16.x focal InRelease\n",
      "Hit:2 http://archive.ubuntu.com/ubuntu focal InRelease                         \u001b[0m\u001b[33m\n",
      "Hit:3 http://archive.ubuntu.com/ubuntu focal-updates InRelease                 \n",
      "Hit:4 http://archive.ubuntu.com/ubuntu focal-backports InRelease\n",
      "Hit:5 http://security.ubuntu.com/ubuntu focal-security InRelease\n",
      "Hit:6 http://ppa.launchpad.net/deadsnakes/ppa/ubuntu focal InRelease\n",
      "Reading package lists... Done\u001b[33m\u001b[33m\u001b[33m\u001b[33m\n",
      "Building dependency tree       \n",
      "Reading state information... Done\n",
      "134 packages can be upgraded. Run 'apt list --upgradable' to see them.\n",
      "Reading package lists... Done\n",
      "Building dependency tree       \n",
      "Reading state information... Done\n",
      "ffmpeg is already the newest version (7:4.2.7-0ubuntu0.1).\n",
      "0 upgraded, 0 newly installed, 0 to remove and 134 not upgraded.\n"
     ]
    }
   ],
   "source": [
    "%pip install -q --upgrade --no-deps --force-reinstall git+https://github.com/openai/whisper.git\n",
    "\n",
    "# Install ffmpeg\n",
    "# on Ubuntu or Debian\n",
    "!sudo apt update -y && sudo apt install ffmpeg -y\n",
    "# on MacOS\n",
    "# brew install ffmpeg\n",
    "# on Windows\n",
    "#choco install ffmpeg\n",
    "# on Windows(alternative)\n",
    "# scoop install ffmpeg"
   ]
  },
  {
   "cell_type": "code",
   "execution_count": 23,
   "id": "a1dc1324-263b-4eb2-ade2-afd3c4e6bf30",
   "metadata": {},
   "outputs": [],
   "source": [
    "import whisper\n",
    "import torch\n",
    "import json"
   ]
  },
  {
   "cell_type": "code",
   "execution_count": 8,
   "id": "b72d90cc-9938-4830-a29c-b4f9ee81b2c5",
   "metadata": {},
   "outputs": [
    {
     "name": "stdout",
     "output_type": "stream",
     "text": [
      "cuda\n"
     ]
    }
   ],
   "source": [
    "device = \"cuda\" if torch.cuda.is_available() else \"cpu\"\n",
    "print(device)"
   ]
  },
  {
   "cell_type": "code",
   "execution_count": 9,
   "id": "70a2eb37-2def-42aa-b9fd-627016e09845",
   "metadata": {},
   "outputs": [
    {
     "name": "stderr",
     "output_type": "stream",
     "text": [
      "100%|██████████████████████████████████████| 2.87G/2.87G [00:20<00:00, 147MiB/s]\n"
     ]
    }
   ],
   "source": [
    "model = whisper.load_model(\"large\").to(device)"
   ]
  },
  {
   "cell_type": "markdown",
   "id": "4be16397-beda-4846-b0d7-acd29515135e",
   "metadata": {},
   "source": [
    "## Sample /udio File to transcribe"
   ]
  },
  {
   "cell_type": "code",
   "execution_count": 13,
   "id": "ace4ef17-dee3-457b-979c-f06e0592c406",
   "metadata": {},
   "outputs": [],
   "source": [
    "audio_file_path = \"audio-recordings/py_pyspark_training_2.mp3\"\n",
    "result = model.transcribe(audio_file_path)\n",
    "data = result[\"segments\"]"
   ]
  },
  {
   "cell_type": "code",
   "execution_count": 36,
   "id": "e1d9cf78-557e-47f2-9cf4-c0c8f4f5f986",
   "metadata": {},
   "outputs": [
    {
     "data": {
      "text/plain": [
       "162"
      ]
     },
     "execution_count": 36,
     "metadata": {},
     "output_type": "execute_result"
    }
   ],
   "source": [
    "transcription_file = \"transcription.json\"\n",
    "window = 12\n",
    "stride = 6\n",
    "transcription = []\n",
    "for i in range(0, len(data), stride):\n",
    "    i_end = min(i+window, len(data)-1)\n",
    "    text = \"\".join([x[\"text\"] for x in data[i:i_end]])\n",
    "    start = data[i][\"start\"]\n",
    "    end = data[i_end][\"end\"]\n",
    "    row_id = f\"{i}-t{start}\"\n",
    "    meta = {\n",
    "        \"title\": \"py_pyspark_training_2.mp3\",\n",
    "        \"id\": row_id,\n",
    "        \"text\": text,\n",
    "        \"start\": start,\n",
    "        \"end\": end,\n",
    "    }\n",
    "    transcription.append(meta)\n",
    "    \n",
    "with open(transcription_file, \"w\", encoding=\"utf-8\") as fp:\n",
    "    json.dump([ob for ob in transcription], fp)\n",
    "    \n",
    "len(transcription)"
   ]
  },
  {
   "cell_type": "code",
   "execution_count": 25,
   "id": "75eeeb4f-85ac-444a-82e4-c02183db62a9",
   "metadata": {},
   "outputs": [
    {
     "data": {
      "text/plain": [
       "971"
      ]
     },
     "execution_count": 25,
     "metadata": {},
     "output_type": "execute_result"
    }
   ],
   "source": [
    "len(data)"
   ]
  },
  {
   "cell_type": "code",
   "execution_count": null,
   "id": "a8d634a1-a2c9-4754-a527-7307ccd923ff",
   "metadata": {},
   "outputs": [],
   "source": []
  }
 ],
 "metadata": {
  "kernelspec": {
   "display_name": "Python 3 (ipykernel)",
   "language": "python",
   "name": "python3"
  },
  "language_info": {
   "codemirror_mode": {
    "name": "ipython",
    "version": 3
   },
   "file_extension": ".py",
   "mimetype": "text/x-python",
   "name": "python",
   "nbconvert_exporter": "python",
   "pygments_lexer": "ipython3",
   "version": "3.9.13"
  }
 },
 "nbformat": 4,
 "nbformat_minor": 5
}
