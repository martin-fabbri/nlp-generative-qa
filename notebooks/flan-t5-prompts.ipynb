{
 "cells": [
  {
   "attachments": {},
   "cell_type": "markdown",
   "id": "effbf36a-4fb2-41c7-a7fa-0101afe6e211",
   "metadata": {},
   "source": [
    "# Flan-T5 Prompts"
   ]
  },
  {
   "cell_type": "code",
   "execution_count": 20,
   "id": "0f7f433c-6412-42c1-a567-799220e5fc78",
   "metadata": {},
   "outputs": [
    {
     "name": "stdout",
     "output_type": "stream",
     "text": [
      "Thu Feb  9 17:12:49 2023       \n",
      "+-----------------------------------------------------------------------------+\n",
      "| NVIDIA-SMI 510.73.05    Driver Version: 510.73.05    CUDA Version: 11.6     |\n",
      "|-------------------------------+----------------------+----------------------+\n",
      "| GPU  Name        Persistence-M| Bus-Id        Disp.A | Volatile Uncorr. ECC |\n",
      "| Fan  Temp  Perf  Pwr:Usage/Cap|         Memory-Usage | GPU-Util  Compute M. |\n",
      "|                               |                      |               MIG M. |\n",
      "|===============================+======================+======================|\n",
      "|   0  NVIDIA RTX A4000    Off  | 00000000:00:05.0 Off |                  Off |\n",
      "| 41%   33C    P8    19W / 140W |  12387MiB / 16376MiB |      0%      Default |\n",
      "|                               |                      |                  N/A |\n",
      "+-------------------------------+----------------------+----------------------+\n",
      "                                                                               \n",
      "+-----------------------------------------------------------------------------+\n",
      "| Processes:                                                                  |\n",
      "|  GPU   GI   CI        PID   Type   Process name                  GPU Memory |\n",
      "|        ID   ID                                                   Usage      |\n",
      "|=============================================================================|\n",
      "+-----------------------------------------------------------------------------+\n"
     ]
    }
   ],
   "source": [
    "!nvidia-smi"
   ]
  },
  {
   "cell_type": "code",
   "execution_count": 19,
   "id": "3eaecb5e-06fc-4241-b05d-6f8bf07377d5",
   "metadata": {},
   "outputs": [
    {
     "name": "stdout",
     "output_type": "stream",
     "text": [
      "              total        used        free      shared  buff/cache   available\n",
      "Mem:           44Gi       4.3Gi        18Gi        38Mi        21Gi        39Gi\n",
      "Swap:            0B          0B          0B\n"
     ]
    }
   ],
   "source": [
    "!free -h"
   ]
  },
  {
   "cell_type": "code",
   "execution_count": 4,
   "id": "254f78b3",
   "metadata": {},
   "outputs": [
    {
     "name": "stdout",
     "output_type": "stream",
     "text": [
      "Architecture:                    x86_64\n",
      "CPU op-mode(s):                  32-bit, 64-bit\n",
      "Byte Order:                      Little Endian\n",
      "Address sizes:                   46 bits physical, 48 bits virtual\n",
      "CPU(s):                          8\n",
      "On-line CPU(s) list:             0-7\n",
      "Thread(s) per core:              1\n",
      "Core(s) per socket:              8\n",
      "Socket(s):                       1\n",
      "NUMA node(s):                    1\n",
      "Vendor ID:                       GenuineIntel\n",
      "CPU family:                      6\n",
      "Model:                           106\n",
      "Model name:                      Intel(R) Xeon(R) Gold 5315Y CPU @ 3.20GHz\n",
      "Stepping:                        6\n",
      "CPU MHz:                         3199.910\n",
      "BogoMIPS:                        6400.17\n",
      "Hypervisor vendor:               Xen\n",
      "Virtualization type:             full\n",
      "L1d cache:                       384 KiB\n",
      "L1i cache:                       256 KiB\n",
      "L2 cache:                        10 MiB\n",
      "L3 cache:                        96 MiB\n",
      "NUMA node0 CPU(s):               0-7\n",
      "Vulnerability Itlb multihit:     KVM: Vulnerable\n",
      "Vulnerability L1tf:              Mitigation; PTE Inversion\n",
      "Vulnerability Mds:               Vulnerable: Clear CPU buffers attempted, no mic\n",
      "                                 rocode; SMT Host state unknown\n",
      "Vulnerability Meltdown:          Mitigation; PTI\n",
      "Vulnerability Mmio stale data:   Vulnerable: Clear CPU buffers attempted, no mic\n",
      "                                 rocode; SMT Host state unknown\n",
      "Vulnerability Spec store bypass: Vulnerable\n",
      "Vulnerability Spectre v1:        Mitigation; usercopy/swapgs barriers and __user\n",
      "                                  pointer sanitization\n",
      "Vulnerability Spectre v2:        Mitigation; Retpolines, IBPB conditional, STIBP\n",
      "                                  disabled, RSB filling\n",
      "Vulnerability Srbds:             Not affected\n",
      "Vulnerability Tsx async abort:   Not affected\n",
      "Flags:                           fpu vme de pse tsc msr pae mce cx8 apic sep mtr\n",
      "                                 r pge mca cmov pat pse36 clflush mmx fxsr sse s\n",
      "                                 se2 ht syscall nx pdpe1gb rdtscp lm constant_ts\n",
      "                                 c rep_good nopl cpuid pni pclmulqdq ssse3 fma c\n",
      "                                 x16 sse4_1 sse4_2 movbe popcnt aes xsave avx f1\n",
      "                                 6c rdrand hypervisor lahf_lm abm 3dnowprefetch \n",
      "                                 cpuid_fault pti ibpb fsgsbase bmi1 avx2 smep bm\n",
      "                                 i2 rdseed adx smap clflushopt clwb sha_ni xsave\n",
      "                                 opt xsavec xgetbv1 xsaves umip rdpid\n"
     ]
    }
   ],
   "source": [
    "!lscpu"
   ]
  },
  {
   "cell_type": "code",
   "execution_count": 5,
   "id": "89490584",
   "metadata": {},
   "outputs": [
    {
     "name": "stdout",
     "output_type": "stream",
     "text": [
      "\u001b[33mWARNING: Running pip as the 'root' user can result in broken permissions and conflicting behaviour with the system package manager. It is recommended to use a virtual environment instead: https://pip.pypa.io/warnings/venv\u001b[0m\u001b[33m\n",
      "\u001b[0m"
     ]
    }
   ],
   "source": [
    "! pip install -q transformers accelerate sentencepiece gradio"
   ]
  },
  {
   "cell_type": "code",
   "execution_count": 3,
   "id": "a8ac5490",
   "metadata": {},
   "outputs": [],
   "source": [
    "from transformers import T5Tokenizer, T5ForConditionalGeneration\n",
    "\n",
    "tokenizer = T5Tokenizer.from_pretrained(\"google/flan-t5-xl\")\n",
    "model = T5ForConditionalGeneration.from_pretrained(\"google/flan-t5-xl\").to(\"cuda\")"
   ]
  },
  {
   "cell_type": "code",
   "execution_count": 4,
   "id": "ce838966",
   "metadata": {},
   "outputs": [],
   "source": [
    "def generate_simple(input_text):\n",
    "  input_ids = tokenizer(input_text, return_tensors=\"pt\").input_ids.to(\"cuda\")\n",
    "  output = model.generate(\n",
    "    input_ids, \n",
    "    max_length=1024,\n",
    "    temperature=0.7)\n",
    "  return tokenizer.decode(output[0], skip_special_tokens=True)"
   ]
  },
  {
   "cell_type": "code",
   "execution_count": 25,
   "id": "3213e348",
   "metadata": {},
   "outputs": [
    {
     "data": {
      "text/plain": [
       "'artificial intelligence'"
      ]
     },
     "execution_count": 25,
     "metadata": {},
     "output_type": "execute_result"
    }
   ],
   "source": [
    "input_text = \"\"\"Explain artificial intelligence\"\"\"\n",
    "generate_simple(input_text)"
   ]
  },
  {
   "cell_type": "code",
   "execution_count": 26,
   "id": "767ab341",
   "metadata": {},
   "outputs": [],
   "source": [
    "def generate_custom(input_text):\n",
    "  input_ids = tokenizer(input_text, return_tensors=\"pt\").input_ids.to(\"cuda\")\n",
    "  output = model.generate(\n",
    "    input_ids, \n",
    "    min_length=256,\n",
    "    max_new_tokens=1024,\n",
    "    length_penalty=1.4,\n",
    "    no_repeat_ngram_size=2,\n",
    "    top_k=150,\n",
    "    top_p=0.92,\n",
    "    repetition_penalty=2.1,\n",
    "    #num_beams=4,\n",
    "    temperature=0.7)\n",
    "  return tokenizer.decode(output[0], skip_special_tokens=True)"
   ]
  },
  {
   "cell_type": "code",
   "execution_count": 27,
   "id": "008c4843",
   "metadata": {},
   "outputs": [
    {
     "data": {
      "text/plain": [
       "'artificial intelligence is a branch of computer science that deals with the development of machines that can learn and perform tasks. It is also known as machine learning. Artificial intelligence has been around for centuries, but it was only in the last few decades that people began to realize that it could be used to create intelligent systems. Today, AI encompasses everything from robots to computers. In this article, we will look at some of the most important developments in AI. The first major breakthrough in artificially intelligent machines was made in 1956 by John McCarthy. He developed an algorithm that allowed computers to recognize faces and objects. This was called face recognition. Another key advance was the creation of deep neural networks. These were designed to allow computers (and other devices) to learn from each other. Deep neural nets are now widely used in many areas of computing. They have become so sophisticated that they can even read human language. A recent example is AlexNet, whose creators claim that their system can understand more than 100 languages. Other examples include Siri, which uses speech recognition technology to provide suggestions to users. One of today’s biggest advances in computer technology is the advent of artificial general intelligence. AI allows computers and other machines to think like humans. For example, Google Now lets you ask if someone is hungry.'"
      ]
     },
     "execution_count": 27,
     "metadata": {},
     "output_type": "execute_result"
    }
   ],
   "source": [
    "generate_custom(input_text)"
   ]
  },
  {
   "cell_type": "code",
   "execution_count": null,
   "id": "9103ee3a",
   "metadata": {},
   "outputs": [],
   "source": [
    "input_text = \"\"\"\n",
    "Answer the following question by reasoning step by step.\n",
    "The cafeteria had 23 apples. If the used 20 for lunch and bougth 6 more, how many apples do they have?\n",
    "\"\"\"\n",
    "generate(input_text)"
   ]
  },
  {
   "cell_type": "code",
   "execution_count": 30,
   "id": "d8c76594",
   "metadata": {},
   "outputs": [
    {
     "data": {
      "text/plain": [
       "'English law'"
      ]
     },
     "execution_count": 30,
     "metadata": {},
     "output_type": "execute_result"
    }
   ],
   "source": [
    "\n",
    "input_text = \"\"\"Given the following extracted parts of a long document and a question, create a final answer with references (\"SOURCES\").\n",
    "If you don't know the answer, just say that you don't know. Don't try to make up an answer.\n",
    "ALWAYS return a \"SOURCES\" part in your answer.\n",
    "\n",
    "QUESTION: Which state/country's law governs the interpretation of the contract?\n",
    "=========\n",
    "Content: This Agreement is governed by English law and the parties submit to the exclusive jurisdiction of the English courts in  relation to any dispute (contractual or non-contractual) concerning this Agreement save that either party may apply to any court for an  injunction or other relief to protect its Intellectual Property Rights.\n",
    "Source: 28-pl\n",
    "Content: No Waiver. Failure or delay in exercising any right or remedy under this Agreement shall not constitute a waiver of such (or any other)  right or remedy.\\n\\n11.7 Severability. The invalidity, illegality or unenforceability of any term (or part of a term) of this Agreement shall not affect the continuation  in force of the remainder of the term (if any) and this Agreement.\\n\\n11.8 No Agency. Except as expressly stated otherwise, nothing in this Agreement shall create an agency, partnership or joint venture of any  kind between the parties.\\n\\n11.9 No Third-Party Beneficiaries.\n",
    "Source: 30-pl\n",
    "Content: (b) if Google believes, in good faith, that the Distributor has violated or caused Google to violate any Anti-Bribery Laws (as  defined in Clause 8.5) or that such a violation is reasonably likely to occur,\n",
    "Source: 4-pl\n",
    "=========\n",
    "FINAL ANSWER:\"\"\"\n",
    "generate(input_text)"
   ]
  },
  {
   "cell_type": "code",
   "execution_count": 31,
   "id": "fb945376",
   "metadata": {},
   "outputs": [
    {
     "data": {
      "text/plain": [
       "\"Monkeys can't write. Monkeys can't read. Monkeys can't write. The answer is no.\""
      ]
     },
     "execution_count": 31,
     "metadata": {},
     "output_type": "execute_result"
    }
   ],
   "source": [
    "input_text = \"\"\"\n",
    "Q: Answer the following yes/no question by\n",
    "reasoning step-by-step.\n",
    "Could a dandelion suffer from hepatitis?\n",
    "A: Hepatitis only affects organisms with livers.\n",
    "Dandelions don’t have a liver. The answer is no.\n",
    "Q: Answer the following yes/no question by\n",
    "reasoning step-by-step.\n",
    "Can a monkey write a post?\n",
    "A: \n",
    "\"\"\"\n",
    "\n",
    "generate(input_text)"
   ]
  },
  {
   "cell_type": "code",
   "execution_count": 40,
   "id": "7867bead",
   "metadata": {},
   "outputs": [
    {
     "data": {
      "text/plain": [
       "'What is the name of the language that is used by data scientists?'"
      ]
     },
     "execution_count": 40,
     "metadata": {},
     "output_type": "execute_result"
    }
   ],
   "source": [
    "input_text = \"\"\"\n",
    "Generate a question for the following text: The Python plugin allows you to run python scripts on the o9 Platform. It acts like a bridge between the GraphCube server and the Hadoop ecosystem on which the python scripts are executed. One of the preferred languages of the data scientists is python. The data size for AI/ML is huge and is in the order of millions and billions rows of data. The o9 Platform provides an easy way to provide the metadata configuration option on the Platform UI and provides scripts for configuration to run on the Hadoop cluster at scale.\"\"\"\n",
    "generate(input_text)"
   ]
  }
 ],
 "metadata": {
  "kernelspec": {
   "display_name": "Python 3",
   "language": "python",
   "name": "python3"
  },
  "language_info": {
   "codemirror_mode": {
    "name": "ipython",
    "version": 3
   },
   "file_extension": ".py",
   "mimetype": "text/x-python",
   "name": "python",
   "nbconvert_exporter": "python",
   "pygments_lexer": "ipython3",
   "version": "3.10.9"
  },
  "vscode": {
   "interpreter": {
    "hash": "aee8b7b246df8f9039afb4144a1f6fd8d2ca17a180786b69acc140d282b71a49"
   }
  }
 },
 "nbformat": 4,
 "nbformat_minor": 5
}
